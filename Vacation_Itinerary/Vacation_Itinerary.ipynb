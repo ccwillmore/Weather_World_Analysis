{
 "cells": [
  {
   "cell_type": "markdown",
   "metadata": {},
   "source": [
    "## Deliverable 3. Create a Travel Itinerary Map."
   ]
  },
  {
   "cell_type": "code",
   "execution_count": 9,
   "metadata": {},
   "outputs": [],
   "source": [
    "# Dependencies and Setup\n",
    "import pandas as pd\n",
    "import requests\n",
    "import gmaps\n",
    "\n",
    "# Import API key\n",
    "from config import g_key\n",
    "\n",
    "# Configure gmaps\n",
    "gmaps.configure(api_key=g_key)"
   ]
  },
  {
   "cell_type": "code",
   "execution_count": 10,
   "metadata": {},
   "outputs": [
    {
     "data": {
      "text/html": [
       "<div>\n",
       "<style scoped>\n",
       "    .dataframe tbody tr th:only-of-type {\n",
       "        vertical-align: middle;\n",
       "    }\n",
       "\n",
       "    .dataframe tbody tr th {\n",
       "        vertical-align: top;\n",
       "    }\n",
       "\n",
       "    .dataframe thead th {\n",
       "        text-align: right;\n",
       "    }\n",
       "</style>\n",
       "<table border=\"1\" class=\"dataframe\">\n",
       "  <thead>\n",
       "    <tr style=\"text-align: right;\">\n",
       "      <th></th>\n",
       "      <th>City_ID</th>\n",
       "      <th>City</th>\n",
       "      <th>Country</th>\n",
       "      <th>Max Temp</th>\n",
       "      <th>Current Description</th>\n",
       "      <th>Lat</th>\n",
       "      <th>Lng</th>\n",
       "      <th>Hotel Name</th>\n",
       "    </tr>\n",
       "  </thead>\n",
       "  <tbody>\n",
       "    <tr>\n",
       "      <th>0</th>\n",
       "      <td>4</td>\n",
       "      <td>shache</td>\n",
       "      <td>CN</td>\n",
       "      <td>76.50</td>\n",
       "      <td>overcast clouds</td>\n",
       "      <td>38.4167</td>\n",
       "      <td>77.2406</td>\n",
       "      <td>Delong Hotel</td>\n",
       "    </tr>\n",
       "    <tr>\n",
       "      <th>1</th>\n",
       "      <td>20</td>\n",
       "      <td>sailana</td>\n",
       "      <td>IN</td>\n",
       "      <td>81.19</td>\n",
       "      <td>clear sky</td>\n",
       "      <td>23.4667</td>\n",
       "      <td>74.9167</td>\n",
       "      <td>Krishna Marriage Garden Sailana</td>\n",
       "    </tr>\n",
       "    <tr>\n",
       "      <th>2</th>\n",
       "      <td>22</td>\n",
       "      <td>barreirinha</td>\n",
       "      <td>BR</td>\n",
       "      <td>82.18</td>\n",
       "      <td>broken clouds</td>\n",
       "      <td>-2.7933</td>\n",
       "      <td>-57.0700</td>\n",
       "      <td>Hotel e Restaurante Tupana Iwato</td>\n",
       "    </tr>\n",
       "    <tr>\n",
       "      <th>3</th>\n",
       "      <td>25</td>\n",
       "      <td>puerto ayora</td>\n",
       "      <td>EC</td>\n",
       "      <td>75.54</td>\n",
       "      <td>few clouds</td>\n",
       "      <td>-0.7393</td>\n",
       "      <td>-90.3518</td>\n",
       "      <td>Finch Bay Galapagos Hotel</td>\n",
       "    </tr>\n",
       "    <tr>\n",
       "      <th>4</th>\n",
       "      <td>29</td>\n",
       "      <td>otukpo</td>\n",
       "      <td>NG</td>\n",
       "      <td>78.89</td>\n",
       "      <td>scattered clouds</td>\n",
       "      <td>7.1913</td>\n",
       "      <td>8.1329</td>\n",
       "      <td>Queen s Hotel</td>\n",
       "    </tr>\n",
       "  </tbody>\n",
       "</table>\n",
       "</div>"
      ],
      "text/plain": [
       "   City_ID          City Country  Max Temp Current Description      Lat  \\\n",
       "0        4        shache      CN     76.50     overcast clouds  38.4167   \n",
       "1       20       sailana      IN     81.19           clear sky  23.4667   \n",
       "2       22   barreirinha      BR     82.18       broken clouds  -2.7933   \n",
       "3       25  puerto ayora      EC     75.54          few clouds  -0.7393   \n",
       "4       29        otukpo      NG     78.89    scattered clouds   7.1913   \n",
       "\n",
       "       Lng                        Hotel Name  \n",
       "0  77.2406                      Delong Hotel  \n",
       "1  74.9167   Krishna Marriage Garden Sailana  \n",
       "2 -57.0700  Hotel e Restaurante Tupana Iwato  \n",
       "3 -90.3518         Finch Bay Galapagos Hotel  \n",
       "4   8.1329                     Queen s Hotel  "
      ]
     },
     "execution_count": 10,
     "metadata": {},
     "output_type": "execute_result"
    }
   ],
   "source": [
    "# 1. Read the WeatherPy_vacation.csv into a DataFrame.\n",
    "vacation_df = pd.read_csv(\"../Vacation_Search/WeatherPy_vacation.csv\")\n",
    "vacation_df.head()"
   ]
  },
  {
   "cell_type": "code",
   "execution_count": 19,
   "metadata": {},
   "outputs": [],
   "source": [
    "# 2. Using the template add the city name, the country code, the weather description and maximum temperature for the city.\n",
    "info_box_template = \"\"\"\n",
    "<dl>\n",
    "<dt>Hotel</dt/><dd>{Hotel Name}</dd>\n",
    "<dt>City</dt/><dd>{City}</dd>\n",
    "<dt>Country</dt/><dd>{Country}</dd>\n",
    "<dt>Weather description</dt><dd>{Current Description}</dd>\n",
    "<dt>Max Temp</dt/><dd>{Max Temp} °F</dd>\n",
    "</dl>\n",
    "\"\"\"\n",
    "\n",
    "# 3a. Get the data from each row and add it to the formatting template and store the data in a list.\n",
    "hotel_info = [info_box_template.format(**row) for index, row in vacation_df.iterrows()]\n",
    "\n",
    "# 3b. Get the latitude and longitude from each row and store in a new DataFrame.\n",
    "locations = vacation_df[[\"Lat\", \"Lng\"]]"
   ]
  },
  {
   "cell_type": "code",
   "execution_count": 20,
   "metadata": {},
   "outputs": [
    {
     "data": {
      "application/vnd.jupyter.widget-view+json": {
       "model_id": "517e0d0cfe054b1eb532d947ae450b31",
       "version_major": 2,
       "version_minor": 0
      },
      "text/plain": [
       "Figure(layout=FigureLayout(height='420px'))"
      ]
     },
     "metadata": {},
     "output_type": "display_data"
    }
   ],
   "source": [
    "# 4a. Add a marker layer for each city to the map.\n",
    "fig = gmaps.figure(center=(30.0,31.0),zoom_level=1.7)\n",
    "marker_layer = gmaps.marker_layer(locations,info_box_content = hotel_info)\n",
    "fig.add_layer(marker_layer)\n",
    "fig\n",
    "# 4b. Display the figure\n",
    "\n"
   ]
  },
  {
   "cell_type": "code",
   "execution_count": 21,
   "metadata": {},
   "outputs": [],
   "source": [
    "# From the map above pick 4 cities and create a vacation itinerary route to travel between the four cities. \n",
    "# 5. Create DataFrames for each city by filtering the 'vacation_df' using the loc method. \n",
    "# Hint: The starting and ending city should be the same city.\n",
    "\n",
    "vacation_start = vacation_df.loc[vacation_df['City'] == 'padang']\n",
    "vacation_end = vacation_df.loc[vacation_df['City'] == 'padang']\n",
    "vacation_stop1 = vacation_df.loc[vacation_df['City'] == 'astanajapura']\n",
    "vacation_stop2 = vacation_df.loc[vacation_df['City'] == 'mlonggo'] \n",
    "vacation_stop3 = vacation_df.loc[vacation_df['City'] == 'denpasar'] "
   ]
  },
  {
   "cell_type": "code",
   "execution_count": 22,
   "metadata": {},
   "outputs": [],
   "source": [
    "# 6. Get the latitude-longitude pairs as tuples from each city DataFrame using the to_numpy function and list indexing.\n",
    "start = ((vacation_df.loc[vacation_df['City']=='padang'][['Lat','Lng']].to_numpy()[0][0],\n",
    "          vacation_df.loc[vacation_df['City']=='padang'][['Lat','Lng']].to_numpy()[0][1]))\n",
    "end = ((vacation_df.loc[vacation_df['City']=='padang'][['Lat','Lng']].to_numpy()[0][0],\n",
    "        vacation_df.loc[vacation_df['City']=='padang'][['Lat','Lng']].to_numpy()[0][1]))\n",
    "stop1 = ((vacation_df.loc[vacation_df['City']=='astanajapura'][['Lat','Lng']].to_numpy()[0][0],\n",
    "          vacation_df.loc[vacation_df['City']=='astanajapura'][['Lat','Lng']].to_numpy()[0][1]))\n",
    "stop2 = ((vacation_df.loc[vacation_df['City']=='mlonggo'][['Lat','Lng']].to_numpy()[0][0],\n",
    "          vacation_df.loc[vacation_df['City']=='mlonggo'][['Lat','Lng']].to_numpy()[0][1]))\n",
    "stop3 = ((vacation_df.loc[vacation_df['City']=='denpasar'][['Lat','Lng']].to_numpy()[0][0],\n",
    "          vacation_df.loc[vacation_df['City']=='denpasar'][['Lat','Lng']].to_numpy()[0][1]))"
   ]
  },
  {
   "cell_type": "code",
   "execution_count": 23,
   "metadata": {
    "scrolled": true
   },
   "outputs": [
    {
     "data": {
      "application/vnd.jupyter.widget-view+json": {
       "model_id": "9fe27d59180b4b5eb4b4f59db2d29633",
       "version_major": 2,
       "version_minor": 0
      },
      "text/plain": [
       "Figure(layout=FigureLayout(height='420px'))"
      ]
     },
     "metadata": {},
     "output_type": "display_data"
    }
   ],
   "source": [
    "# 7. Create a direction layer map using the start and end latitude-longitude pairs,\n",
    "# and stop1, stop2, and stop3 as the waypoints. The travel_mode should be \"DRIVING\", \"BICYCLING\", or \"WALKING\".\n",
    "fig = gmaps.figure()\n",
    "route = gmaps.directions_layer(start,end,waypoints=[stop1,stop2,stop3],travel_mode='DRIVING')\n",
    "fig.add_layer(route)\n",
    "fig\n"
   ]
  },
  {
   "cell_type": "code",
   "execution_count": 24,
   "metadata": {},
   "outputs": [
    {
     "data": {
      "text/html": [
       "<div>\n",
       "<style scoped>\n",
       "    .dataframe tbody tr th:only-of-type {\n",
       "        vertical-align: middle;\n",
       "    }\n",
       "\n",
       "    .dataframe tbody tr th {\n",
       "        vertical-align: top;\n",
       "    }\n",
       "\n",
       "    .dataframe thead th {\n",
       "        text-align: right;\n",
       "    }\n",
       "</style>\n",
       "<table border=\"1\" class=\"dataframe\">\n",
       "  <thead>\n",
       "    <tr style=\"text-align: right;\">\n",
       "      <th></th>\n",
       "      <th>City_ID</th>\n",
       "      <th>City</th>\n",
       "      <th>Country</th>\n",
       "      <th>Max Temp</th>\n",
       "      <th>Current Description</th>\n",
       "      <th>Lat</th>\n",
       "      <th>Lng</th>\n",
       "      <th>Hotel Name</th>\n",
       "    </tr>\n",
       "  </thead>\n",
       "  <tbody>\n",
       "    <tr>\n",
       "      <th>0</th>\n",
       "      <td>621</td>\n",
       "      <td>padang</td>\n",
       "      <td>ID</td>\n",
       "      <td>75.02</td>\n",
       "      <td>overcast clouds</td>\n",
       "      <td>-0.9492</td>\n",
       "      <td>100.3543</td>\n",
       "      <td>Mercure Padang</td>\n",
       "    </tr>\n",
       "    <tr>\n",
       "      <th>1</th>\n",
       "      <td>232</td>\n",
       "      <td>astanajapura</td>\n",
       "      <td>ID</td>\n",
       "      <td>77.76</td>\n",
       "      <td>broken clouds</td>\n",
       "      <td>-6.8017</td>\n",
       "      <td>108.6311</td>\n",
       "      <td>nida nur arofah</td>\n",
       "    </tr>\n",
       "    <tr>\n",
       "      <th>2</th>\n",
       "      <td>286</td>\n",
       "      <td>mlonggo</td>\n",
       "      <td>ID</td>\n",
       "      <td>80.49</td>\n",
       "      <td>broken clouds</td>\n",
       "      <td>-6.5333</td>\n",
       "      <td>110.7000</td>\n",
       "      <td>Asia Metal Art</td>\n",
       "    </tr>\n",
       "    <tr>\n",
       "      <th>3</th>\n",
       "      <td>292</td>\n",
       "      <td>denpasar</td>\n",
       "      <td>ID</td>\n",
       "      <td>78.46</td>\n",
       "      <td>few clouds</td>\n",
       "      <td>-8.6500</td>\n",
       "      <td>115.2167</td>\n",
       "      <td>ASTON Denpasar Hotel &amp; Convention Center</td>\n",
       "    </tr>\n",
       "    <tr>\n",
       "      <th>4</th>\n",
       "      <td>621</td>\n",
       "      <td>padang</td>\n",
       "      <td>ID</td>\n",
       "      <td>75.02</td>\n",
       "      <td>overcast clouds</td>\n",
       "      <td>-0.9492</td>\n",
       "      <td>100.3543</td>\n",
       "      <td>Mercure Padang</td>\n",
       "    </tr>\n",
       "  </tbody>\n",
       "</table>\n",
       "</div>"
      ],
      "text/plain": [
       "   City_ID          City Country  Max Temp Current Description     Lat  \\\n",
       "0      621        padang      ID     75.02     overcast clouds -0.9492   \n",
       "1      232  astanajapura      ID     77.76       broken clouds -6.8017   \n",
       "2      286       mlonggo      ID     80.49       broken clouds -6.5333   \n",
       "3      292      denpasar      ID     78.46          few clouds -8.6500   \n",
       "4      621        padang      ID     75.02     overcast clouds -0.9492   \n",
       "\n",
       "        Lng                                Hotel Name  \n",
       "0  100.3543                            Mercure Padang  \n",
       "1  108.6311                           nida nur arofah  \n",
       "2  110.7000                            Asia Metal Art  \n",
       "3  115.2167  ASTON Denpasar Hotel & Convention Center  \n",
       "4  100.3543                            Mercure Padang  "
      ]
     },
     "execution_count": 24,
     "metadata": {},
     "output_type": "execute_result"
    }
   ],
   "source": [
    "# 8. To create a marker layer map between the four cities.\n",
    "#  Combine the four city DataFrames into one DataFrame using the concat() function.\n",
    "itinerary_df = pd.concat([vacation_start,vacation_stop1,vacation_stop2,vacation_stop3,vacation_end],ignore_index=True)\n",
    "itinerary_df"
   ]
  },
  {
   "cell_type": "code",
   "execution_count": 25,
   "metadata": {},
   "outputs": [],
   "source": [
    "# 9 Using the template add city name, the country code, the weather description and maximum temperature for the city. \n",
    "info_box_template = \"\"\"\n",
    "<dl>\n",
    "<dt>City</dt/><dd>{City}</dd>\n",
    "<dt>Country</dt/><dd>{Country}</dd>\n",
    "<dt>Weather description</dt><dd>{Current Description}</dd>\n",
    "<dt>Max Temp</dt/><dd>{Max Temp} °F</dd>\n",
    "</dl>\n",
    "\"\"\"\n",
    "\n",
    "# 10a Get the data from each row and add it to the formatting template and store the data in a list.\n",
    "hotel_info = [info_box_template.format(**row) for index, row in itinerary_df.iterrows()]\n",
    "\n",
    "# 10b. Get the latitude and longitude from each row and store in a new DataFrame.\n",
    "locations = itinerary_df[[\"Lat\", \"Lng\"]]"
   ]
  },
  {
   "cell_type": "code",
   "execution_count": 26,
   "metadata": {},
   "outputs": [
    {
     "data": {
      "application/vnd.jupyter.widget-view+json": {
       "model_id": "5665e53eccae455995063b619aa34784",
       "version_major": 2,
       "version_minor": 0
      },
      "text/plain": [
       "Figure(layout=FigureLayout(height='420px'))"
      ]
     },
     "metadata": {},
     "output_type": "display_data"
    }
   ],
   "source": [
    "# 11a. Add a marker layer for each city to the map.\n",
    "fig = gmaps.figure()\n",
    "marker_layer = gmaps.marker_layer(locations,info_box_content = hotel_info)\n",
    "fig.add_layer(marker_layer)\n",
    "fig\n",
    "\n",
    "# 11b. Display the figure\n"
   ]
  },
  {
   "cell_type": "code",
   "execution_count": null,
   "metadata": {},
   "outputs": [],
   "source": []
  }
 ],
 "metadata": {
  "kernelspec": {
   "display_name": "PythonData",
   "language": "python",
   "name": "pythondata"
  },
  "language_info": {
   "codemirror_mode": {
    "name": "ipython",
    "version": 3
   },
   "file_extension": ".py",
   "mimetype": "text/x-python",
   "name": "python",
   "nbconvert_exporter": "python",
   "pygments_lexer": "ipython3",
   "version": "3.7.9"
  },
  "latex_envs": {
   "LaTeX_envs_menu_present": true,
   "autoclose": false,
   "autocomplete": true,
   "bibliofile": "biblio.bib",
   "cite_by": "apalike",
   "current_citInitial": 1,
   "eqLabelWithNumbers": true,
   "eqNumInitial": 1,
   "hotkeys": {
    "equation": "Ctrl-E",
    "itemize": "Ctrl-I"
   },
   "labels_anchors": false,
   "latex_user_defs": false,
   "report_style_numbering": false,
   "user_envs_cfg": false
  }
 },
 "nbformat": 4,
 "nbformat_minor": 2
}
