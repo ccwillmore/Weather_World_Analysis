{
 "cells": [
  {
   "cell_type": "code",
   "execution_count": 55,
   "metadata": {},
   "outputs": [],
   "source": [
    "import requests\n",
    "from config import weather_api_key\n",
    "import random\n",
    "import numpy as np\n",
    "import pandas as pd\n",
    "from citipy import citipy"
   ]
  },
  {
   "cell_type": "code",
   "execution_count": 56,
   "metadata": {},
   "outputs": [],
   "source": [
    "latitudes = []\n",
    "longitudes = []\n",
    "cities = []\n",
    "countries = []"
   ]
  },
  {
   "cell_type": "code",
   "execution_count": 57,
   "metadata": {},
   "outputs": [],
   "source": [
    "for index in range(0,2000):\n",
    "    latitudes.append(random.uniform(-90,90))\n",
    "    longitudes.append(random.uniform(-180,180))"
   ]
  },
  {
   "cell_type": "code",
   "execution_count": 58,
   "metadata": {},
   "outputs": [],
   "source": [
    "locations=zip(latitudes,longitudes)\n",
    "lat_long = list(locations)\n"
   ]
  },
  {
   "cell_type": "code",
   "execution_count": 61,
   "metadata": {},
   "outputs": [],
   "source": [
    "\n",
    "for item in lat_long:\n",
    "    try:\n",
    "        city = citipy.nearest_city(item[0],item[1]).city_name\n",
    "        country = citipy.nearest_city(item[0],item[1]).country_code\n",
    "        if city not in cities:\n",
    "            cities.append(city)\n",
    "            countries.append(country)\n",
    "    except:\n",
    "        continue\n",
    "cities_and_countries = zip(cities,countries)\n",
    "cities_list = list(cities_and_countries)\n",
    "cities_df = pd.DataFrame(cities_list)"
   ]
  },
  {
   "cell_type": "code",
   "execution_count": 68,
   "metadata": {},
   "outputs": [
    {
     "data": {
      "text/plain": [
       "City            743\n",
       "Country code    743\n",
       "dtype: int64"
      ]
     },
     "execution_count": 68,
     "metadata": {},
     "output_type": "execute_result"
    }
   ],
   "source": [
    "cities_df = cities_df.rename(columns={0:'City',\n",
    "                        1:'Country code'})\n",
    "cities_df.count()"
   ]
  },
  {
   "cell_type": "code",
   "execution_count": null,
   "metadata": {
    "collapsed": true
   },
   "outputs": [],
   "source": [
    "base_url = \"http://apiopenweathermap.org/data/2.5/weather?lat=\""
   ]
  }
 ],
 "metadata": {
  "kernelspec": {
   "display_name": "PythonData",
   "language": "python",
   "name": "pythondata"
  },
  "language_info": {
   "codemirror_mode": {
    "name": "ipython",
    "version": 3
   },
   "file_extension": ".py",
   "mimetype": "text/x-python",
   "name": "python",
   "nbconvert_exporter": "python",
   "pygments_lexer": "ipython3",
   "version": "3.7.9"
  }
 },
 "nbformat": 4,
 "nbformat_minor": 4
}
