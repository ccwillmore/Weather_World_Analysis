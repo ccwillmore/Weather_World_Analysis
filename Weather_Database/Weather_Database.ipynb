{
 "cells": [
  {
   "cell_type": "code",
   "execution_count": 3,
   "metadata": {},
   "outputs": [],
   "source": [
    "import requests as requests\n",
    "from config import weather_api_key\n",
    "import random\n",
    "import numpy as np\n",
    "import pandas as pd\n",
    "from citipy import citipy"
   ]
  },
  {
   "cell_type": "code",
   "execution_count": 4,
   "metadata": {},
   "outputs": [],
   "source": [
    "latitudes = []\n",
    "longitudes = []\n",
    "cities = []\n",
    "countries = []\n",
    "city_data_list = []"
   ]
  },
  {
   "cell_type": "code",
   "execution_count": 5,
   "metadata": {},
   "outputs": [],
   "source": [
    "for index in range(0,2000):\n",
    "    latitudes.append(random.uniform(-90,90))\n",
    "    longitudes.append(random.uniform(-180,180))"
   ]
  },
  {
   "cell_type": "code",
   "execution_count": 6,
   "metadata": {},
   "outputs": [],
   "source": [
    "locations=zip(latitudes,longitudes)\n",
    "lat_long = list(locations)\n"
   ]
  },
  {
   "cell_type": "code",
   "execution_count": 7,
   "metadata": {},
   "outputs": [],
   "source": [
    "\n",
    "for item in lat_long:\n",
    "    try:\n",
    "        city = citipy.nearest_city(item[0],item[1]).city_name\n",
    "        country = citipy.nearest_city(item[0],item[1]).country_code\n",
    "        if city not in cities:\n",
    "            cities.append(city)\n",
    "            countries.append(country)\n",
    "    except:\n",
    "        continue\n",
    "cities_and_countries = zip(cities,countries)\n",
    "cities_list = list(cities_and_countries)\n"
   ]
  },
  {
   "cell_type": "code",
   "execution_count": 8,
   "metadata": {},
   "outputs": [
    {
     "data": {
      "text/plain": [
       "735"
      ]
     },
     "execution_count": 8,
     "metadata": {},
     "output_type": "execute_result"
    }
   ],
   "source": [
    "len(cities_list)"
   ]
  },
  {
   "cell_type": "code",
   "execution_count": 9,
   "metadata": {},
   "outputs": [
    {
     "name": "stdout",
     "output_type": "stream",
     "text": [
      "mahebourg\n",
      "http://api.openweathermap.org/data/2.5/weather?units=Imperial&APPID=363b701f2dc08cc2c03346558b47cd76&q=mahebourg\n"
     ]
    }
   ],
   "source": [
    "base_url = \"http://api.openweathermap.org/data/2.5/weather?units=Imperial&APPID=\" + weather_api_key\n",
    "temp = cities_list[0][0].replace(\" \",\"+\")\n",
    "print(temp)\n",
    "url = base_url + \"&q=\" + temp.replace(\" \",\"+\")\n",
    "print(url)\n"
   ]
  },
  {
   "cell_type": "code",
   "execution_count": 10,
   "metadata": {},
   "outputs": [
    {
     "name": "stdout",
     "output_type": "stream",
     "text": [
      "failed to get weather data for taolanaro\n",
      "failed to get weather data for nizhneyansk\n",
      "failed to get weather data for bur gabo\n",
      "failed to get weather data for sumbawa\n",
      "failed to get weather data for illoqqortoormiut\n",
      "failed to get weather data for barentsburg\n",
      "failed to get weather data for tsihombe\n",
      "failed to get weather data for umzimvubu\n",
      "failed to get weather data for aflu\n",
      "failed to get weather data for karakose\n",
      "failed to get weather data for marcona\n",
      "failed to get weather data for zolotinka\n",
      "failed to get weather data for tidore\n",
      "failed to get weather data for amderma\n",
      "failed to get weather data for grand river south east\n",
      "failed to get weather data for samusu\n",
      "failed to get weather data for vaitupu\n",
      "failed to get weather data for belushya guba\n",
      "failed to get weather data for ambodifototra\n",
      "failed to get weather data for mrirt\n",
      "failed to get weather data for tabiauea\n",
      "failed to get weather data for khonuu\n",
      "failed to get weather data for yomitan\n",
      "failed to get weather data for meyungs\n",
      "failed to get weather data for deh rawud\n",
      "failed to get weather data for skalistyy\n",
      "failed to get weather data for hihifo\n",
      "failed to get weather data for sinkat\n",
      "failed to get weather data for tumannyy\n",
      "failed to get weather data for kadykchan\n",
      "failed to get weather data for alotau\n",
      "failed to get weather data for rabwah\n",
      "failed to get weather data for sug-aksy\n",
      "failed to get weather data for yeehaw junction\n",
      "failed to get weather data for sentyabrskiy\n",
      "failed to get weather data for ust-kamchatsk\n",
      "failed to get weather data for mys shmidta\n",
      "failed to get weather data for skagastrond\n",
      "failed to get weather data for bolungarvik\n",
      "failed to get weather data for cape elizabeth\n",
      "failed to get weather data for tawkar\n",
      "failed to get weather data for attawapiskat\n",
      "failed to get weather data for rungata\n",
      "failed to get weather data for kuche\n",
      "failed to get weather data for halalo\n",
      "failed to get weather data for karakendzha\n",
      "failed to get weather data for daxian\n",
      "failed to get weather data for haibowan\n",
      "failed to get weather data for we\n",
      "failed to get weather data for balimo\n",
      "failed to get weather data for azrow\n",
      "failed to get weather data for zachagansk\n",
      "failed to get weather data for vestbygda\n",
      "failed to get weather data for sinjah\n",
      "failed to get weather data for zhanatas\n",
      "failed to get weather data for barawe\n",
      "failed to get weather data for stoyba\n",
      "failed to get weather data for phan rang\n",
      "failed to get weather data for formoso do araguaia\n",
      "data retrieval complete\n"
     ]
    }
   ],
   "source": [
    "base_url = \"http://api.openweathermap.org/data/2.5/weather?units=Imperial&APPID=\" + weather_api_key\n",
    "for row in cities_list:\n",
    "    city = row[0] \n",
    "    url = base_url + \"&q=\" + city.replace(\" \",\"+\") \n",
    "    try:\n",
    "        city_weather = requests.get(url).json()\n",
    "        city_lat = city_weather['coord']['lat']\n",
    "        city_lng = city_weather[\"coord\"][\"lon\"]\n",
    "        city_max_temp = city_weather[\"main\"][\"temp_max\"]\n",
    "        city_humidity = city_weather[\"main\"][\"humidity\"]\n",
    "        city_clouds = city_weather[\"clouds\"][\"all\"]\n",
    "        city_wind = city_weather[\"wind\"][\"speed\"]\n",
    "        city_country = city_weather[\"sys\"][\"country\"]\n",
    "        city_description = city_weather['weather'][0]['description']\n",
    "#     Convert the date to ISO standard.\n",
    "#     city_date = datetime.utcfromtimestamp(city_weather[\"dt\"]).strftime('%Y-%m-%d %H:%M:%S')\n",
    "        city_data_list.append({\"City\": city,\n",
    "                            \"Lat\": city_lat,\n",
    "                            \"Lng\": city_lng,\n",
    "                            \"Max Temp\": city_max_temp,\n",
    "                            \"Humidity\": city_humidity,\n",
    "                            \"Cloudiness\": city_clouds,\n",
    "                            \"Wind Speed\": city_wind,\n",
    "                            \"Country\": city_country,\n",
    "                            \"Current Description\":city_description})\n",
    "    except:\n",
    "        print(f'failed to get weather data for {city}')\n",
    "     \n",
    "    if index % 10 == 0:\n",
    "        print(index)\n",
    "print('data retrieval complete')           \n"
   ]
  },
  {
   "cell_type": "code",
   "execution_count": 11,
   "metadata": {},
   "outputs": [
    {
     "data": {
      "text/html": [
       "<div>\n",
       "<style scoped>\n",
       "    .dataframe tbody tr th:only-of-type {\n",
       "        vertical-align: middle;\n",
       "    }\n",
       "\n",
       "    .dataframe tbody tr th {\n",
       "        vertical-align: top;\n",
       "    }\n",
       "\n",
       "    .dataframe thead th {\n",
       "        text-align: right;\n",
       "    }\n",
       "</style>\n",
       "<table border=\"1\" class=\"dataframe\">\n",
       "  <thead>\n",
       "    <tr style=\"text-align: right;\">\n",
       "      <th></th>\n",
       "      <th>City</th>\n",
       "      <th>Lat</th>\n",
       "      <th>Lng</th>\n",
       "      <th>Max Temp</th>\n",
       "      <th>Humidity</th>\n",
       "      <th>Cloudiness</th>\n",
       "      <th>Wind Speed</th>\n",
       "      <th>Country</th>\n",
       "      <th>Current Description</th>\n",
       "    </tr>\n",
       "  </thead>\n",
       "  <tbody>\n",
       "    <tr>\n",
       "      <th>0</th>\n",
       "      <td>mahebourg</td>\n",
       "      <td>-20.4081</td>\n",
       "      <td>57.7000</td>\n",
       "      <td>72.25</td>\n",
       "      <td>83</td>\n",
       "      <td>19</td>\n",
       "      <td>8.86</td>\n",
       "      <td>MU</td>\n",
       "      <td>few clouds</td>\n",
       "    </tr>\n",
       "    <tr>\n",
       "      <th>1</th>\n",
       "      <td>namibe</td>\n",
       "      <td>-15.1961</td>\n",
       "      <td>12.1522</td>\n",
       "      <td>71.80</td>\n",
       "      <td>65</td>\n",
       "      <td>16</td>\n",
       "      <td>3.13</td>\n",
       "      <td>AO</td>\n",
       "      <td>few clouds</td>\n",
       "    </tr>\n",
       "    <tr>\n",
       "      <th>2</th>\n",
       "      <td>nanortalik</td>\n",
       "      <td>60.1432</td>\n",
       "      <td>-45.2371</td>\n",
       "      <td>38.64</td>\n",
       "      <td>83</td>\n",
       "      <td>19</td>\n",
       "      <td>19.37</td>\n",
       "      <td>GL</td>\n",
       "      <td>few clouds</td>\n",
       "    </tr>\n",
       "    <tr>\n",
       "      <th>3</th>\n",
       "      <td>vaini</td>\n",
       "      <td>-21.2000</td>\n",
       "      <td>-175.2000</td>\n",
       "      <td>69.96</td>\n",
       "      <td>94</td>\n",
       "      <td>90</td>\n",
       "      <td>6.91</td>\n",
       "      <td>TO</td>\n",
       "      <td>light rain</td>\n",
       "    </tr>\n",
       "    <tr>\n",
       "      <th>4</th>\n",
       "      <td>shache</td>\n",
       "      <td>38.4167</td>\n",
       "      <td>77.2406</td>\n",
       "      <td>76.50</td>\n",
       "      <td>27</td>\n",
       "      <td>100</td>\n",
       "      <td>7.38</td>\n",
       "      <td>CN</td>\n",
       "      <td>overcast clouds</td>\n",
       "    </tr>\n",
       "  </tbody>\n",
       "</table>\n",
       "</div>"
      ],
      "text/plain": [
       "         City      Lat       Lng  Max Temp  Humidity  Cloudiness  Wind Speed  \\\n",
       "0   mahebourg -20.4081   57.7000     72.25        83          19        8.86   \n",
       "1      namibe -15.1961   12.1522     71.80        65          16        3.13   \n",
       "2  nanortalik  60.1432  -45.2371     38.64        83          19       19.37   \n",
       "3       vaini -21.2000 -175.2000     69.96        94          90        6.91   \n",
       "4      shache  38.4167   77.2406     76.50        27         100        7.38   \n",
       "\n",
       "  Country Current Description  \n",
       "0      MU          few clouds  \n",
       "1      AO          few clouds  \n",
       "2      GL          few clouds  \n",
       "3      TO          light rain  \n",
       "4      CN     overcast clouds  "
      ]
     },
     "execution_count": 11,
     "metadata": {},
     "output_type": "execute_result"
    }
   ],
   "source": [
    "city_data_df=pd.DataFrame(city_data_list)\n",
    "city_data_df.head()"
   ]
  },
  {
   "cell_type": "code",
   "execution_count": 12,
   "metadata": {},
   "outputs": [],
   "source": [
    "city_data_df.to_csv('WeatherPy_Database.csv')"
   ]
  },
  {
   "cell_type": "code",
   "execution_count": null,
   "metadata": {},
   "outputs": [],
   "source": []
  }
 ],
 "metadata": {
  "kernelspec": {
   "display_name": "PythonData",
   "language": "python",
   "name": "pythondata"
  },
  "language_info": {
   "codemirror_mode": {
    "name": "ipython",
    "version": 3
   },
   "file_extension": ".py",
   "mimetype": "text/x-python",
   "name": "python",
   "nbconvert_exporter": "python",
   "pygments_lexer": "ipython3",
   "version": "3.7.9"
  }
 },
 "nbformat": 4,
 "nbformat_minor": 4
}
