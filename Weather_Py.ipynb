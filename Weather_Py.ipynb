{
 "cells": [
  {
   "cell_type": "code",
   "execution_count": 1,
   "metadata": {},
   "outputs": [],
   "source": [
    "# import dependencies\n",
    "import numpy as np\n",
    "import matplotlib.pyplot as plt\n",
    "import pandas as pd\n",
    "from citipy import citipy\n",
    "from datetime import datetime\n",
    "from config import weather_api_key\n",
    "from config import g_key\n",
    "import requests as requests\n",
    "from scipy.stats import linregress"
   ]
  },
  {
   "cell_type": "code",
   "execution_count": 2,
   "metadata": {},
   "outputs": [],
   "source": [
    "# locations = []\n",
    "# lat = []\n",
    "# long = []\n",
    "# for i in range (0,1501):\n",
    "#     lat.append(np.random.uniform(-90,90))\n",
    "#     long.append(np.random.uniform(-180,180))\n",
    "# locations = zip(lat,long)\n",
    "# lat_long = list(locations)\n",
    "# cities = []\n",
    "# countries = []\n",
    "# for element in lat_long:\n",
    "#     city = citipy.nearest_city(element[0],element[1]).city_name\n",
    "#     country = citipy.nearest_city(element[0],element[1]).country_code\n",
    "#     if city not in cities:\n",
    "#         cities.append(city)\n",
    "#         countries.append(country)\n",
    "# cities_and_countries = zip(cities,countries)\n",
    "# cities__and_countries_list = list(cities)\n",
    "# len(cities)"
   ]
  },
  {
   "cell_type": "code",
   "execution_count": 3,
   "metadata": {},
   "outputs": [],
   "source": [
    "# url = \"http://api.openweathermap.org/data/2.5/weather?units=Imperial&APPID=\" + weather_api_key\n",
    "# # city_url = url + \"&q=\" + \"mar del plata\"\n",
    "# print(url)"
   ]
  },
  {
   "cell_type": "code",
   "execution_count": 4,
   "metadata": {},
   "outputs": [],
   "source": [
    "# # create an empty list to hold weather data\n",
    "# city_data_list = []\n",
    "# # Print 'begenning of logging'\n",
    "# print('Beginning data retrieval')\n",
    "# print('------------------------')\n",
    "\n",
    "# # Create the counters\n",
    "# record_count = 1\n",
    "# set_count = 1\n",
    "\n",
    "# # Loop throgh cities in the cities_list list\n",
    "# for i, element in enumerate(cities):\n",
    "   \n",
    "#     # Group cities in groups of 50 for logging purposes\n",
    "#     if (i % 50 == 0 and i >= 50):\n",
    "#         set_count += 1\n",
    "#         record_count = 1\n",
    "#     # Create the url for each city\n",
    "#     city_url = url + \"&q=\" + element.replace(\" \",\"+\")\n",
    "    \n",
    "#     print(f'Processing record {record_count} of Set {set_count} | {element}')\n",
    "#     record_count += 1\n",
    "#     try:\n",
    "        \n",
    "#         city_weather = requests.get(city_url).json()\n",
    "#         city_lat = city_weather['coord']['lat']\n",
    "#         city_lng = city_weather[\"coord\"][\"lon\"]\n",
    "#         city_max_temp = city_weather[\"main\"][\"temp_max\"]\n",
    "#         city_humidity = city_weather[\"main\"][\"humidity\"]\n",
    "#         city_clouds = city_weather[\"clouds\"][\"all\"]\n",
    "#         city_wind = city_weather[\"wind\"][\"speed\"]\n",
    "#         city_country = city_weather[\"sys\"][\"country\"]\n",
    "#         # Convert the date to ISO standard.\n",
    "#         city_date = datetime.utcfromtimestamp(city_weather[\"dt\"]).strftime('%Y-%m-%d %H:%M:%S')\n",
    "#         city_data_list.append({\"City\": element.title(),\n",
    "#                           \"Lat\": city_lat,\n",
    "#                           \"Lng\": city_lng,\n",
    "#                           \"Max Temp\": city_max_temp,\n",
    "#                           \"Humidity\": city_humidity,\n",
    "#                           \"Cloudiness\": city_clouds,\n",
    "#                           \"Wind Speed\": city_wind,\n",
    "#                           \"Country\": city_country,\n",
    "#                           \"Date\": city_date})\n",
    "#     except:\n",
    "#         print('City not found...')\n",
    "#         pass\n",
    "# # Indicate that Data Loading is complete.\n",
    "# print(\"-----------------------------\")\n",
    "# print(\"Data Retrieval Complete      \")\n",
    "# print(\"-----------------------------\")    \n"
   ]
  },
  {
   "cell_type": "code",
   "execution_count": 5,
   "metadata": {},
   "outputs": [],
   "source": [
    "# len(city_data_list)"
   ]
  },
  {
   "cell_type": "code",
   "execution_count": 6,
   "metadata": {},
   "outputs": [],
   "source": [
    "# city_data_df = pd.DataFrame(city_data_list)\n",
    "# city_data_df.head()"
   ]
  },
  {
   "cell_type": "code",
   "execution_count": 7,
   "metadata": {},
   "outputs": [],
   "source": [
    "# column_order = ['City','Country','Date','Lat','Lng','Max Temp','Humidity','Cloudiness','Wind Speed']\n",
    "# city_data_df = city_data_df[column_order]\n",
    "# city_data_df.head()"
   ]
  },
  {
   "cell_type": "code",
   "execution_count": 8,
   "metadata": {},
   "outputs": [],
   "source": [
    "# output_data_file = 'weather_data/cities.csv'\n",
    "# city_data_df.to_csv(output_data_file,index_label = 'City_ID')"
   ]
  },
  {
   "cell_type": "code",
   "execution_count": 9,
   "metadata": {},
   "outputs": [
    {
     "data": {
      "text/html": [
       "<div>\n",
       "<style scoped>\n",
       "    .dataframe tbody tr th:only-of-type {\n",
       "        vertical-align: middle;\n",
       "    }\n",
       "\n",
       "    .dataframe tbody tr th {\n",
       "        vertical-align: top;\n",
       "    }\n",
       "\n",
       "    .dataframe thead th {\n",
       "        text-align: right;\n",
       "    }\n",
       "</style>\n",
       "<table border=\"1\" class=\"dataframe\">\n",
       "  <thead>\n",
       "    <tr style=\"text-align: right;\">\n",
       "      <th></th>\n",
       "      <th>City_ID</th>\n",
       "      <th>City</th>\n",
       "      <th>Country</th>\n",
       "      <th>Date</th>\n",
       "      <th>Lat</th>\n",
       "      <th>Lng</th>\n",
       "      <th>Max Temp</th>\n",
       "      <th>Humidity</th>\n",
       "      <th>Cloudiness</th>\n",
       "      <th>Wind Speed</th>\n",
       "    </tr>\n",
       "  </thead>\n",
       "  <tbody>\n",
       "    <tr>\n",
       "      <th>0</th>\n",
       "      <td>0</td>\n",
       "      <td>Yellowknife</td>\n",
       "      <td>CA</td>\n",
       "      <td>2021-05-24 19:46:20</td>\n",
       "      <td>62.4560</td>\n",
       "      <td>-114.3525</td>\n",
       "      <td>42.33</td>\n",
       "      <td>38</td>\n",
       "      <td>1</td>\n",
       "      <td>5.01</td>\n",
       "    </tr>\n",
       "    <tr>\n",
       "      <th>1</th>\n",
       "      <td>1</td>\n",
       "      <td>Sai Buri</td>\n",
       "      <td>TH</td>\n",
       "      <td>2021-05-24 19:46:20</td>\n",
       "      <td>6.7013</td>\n",
       "      <td>101.6168</td>\n",
       "      <td>78.75</td>\n",
       "      <td>86</td>\n",
       "      <td>97</td>\n",
       "      <td>4.23</td>\n",
       "    </tr>\n",
       "    <tr>\n",
       "      <th>2</th>\n",
       "      <td>2</td>\n",
       "      <td>Saldanha</td>\n",
       "      <td>ZA</td>\n",
       "      <td>2021-05-24 19:46:20</td>\n",
       "      <td>-33.0117</td>\n",
       "      <td>17.9442</td>\n",
       "      <td>60.85</td>\n",
       "      <td>92</td>\n",
       "      <td>100</td>\n",
       "      <td>5.06</td>\n",
       "    </tr>\n",
       "    <tr>\n",
       "      <th>3</th>\n",
       "      <td>3</td>\n",
       "      <td>Tuktoyaktuk</td>\n",
       "      <td>CA</td>\n",
       "      <td>2021-05-24 19:46:21</td>\n",
       "      <td>69.4541</td>\n",
       "      <td>-133.0374</td>\n",
       "      <td>30.20</td>\n",
       "      <td>100</td>\n",
       "      <td>90</td>\n",
       "      <td>8.05</td>\n",
       "    </tr>\n",
       "    <tr>\n",
       "      <th>4</th>\n",
       "      <td>4</td>\n",
       "      <td>Provideniya</td>\n",
       "      <td>RU</td>\n",
       "      <td>2021-05-24 19:46:21</td>\n",
       "      <td>64.3833</td>\n",
       "      <td>-173.3000</td>\n",
       "      <td>37.51</td>\n",
       "      <td>70</td>\n",
       "      <td>0</td>\n",
       "      <td>22.37</td>\n",
       "    </tr>\n",
       "  </tbody>\n",
       "</table>\n",
       "</div>"
      ],
      "text/plain": [
       "   City_ID         City Country                 Date      Lat       Lng  \\\n",
       "0        0  Yellowknife      CA  2021-05-24 19:46:20  62.4560 -114.3525   \n",
       "1        1     Sai Buri      TH  2021-05-24 19:46:20   6.7013  101.6168   \n",
       "2        2     Saldanha      ZA  2021-05-24 19:46:20 -33.0117   17.9442   \n",
       "3        3  Tuktoyaktuk      CA  2021-05-24 19:46:21  69.4541 -133.0374   \n",
       "4        4  Provideniya      RU  2021-05-24 19:46:21  64.3833 -173.3000   \n",
       "\n",
       "   Max Temp  Humidity  Cloudiness  Wind Speed  \n",
       "0     42.33        38           1        5.01  \n",
       "1     78.75        86          97        4.23  \n",
       "2     60.85        92         100        5.06  \n",
       "3     30.20       100          90        8.05  \n",
       "4     37.51        70           0       22.37  "
      ]
     },
     "execution_count": 9,
     "metadata": {},
     "output_type": "execute_result"
    }
   ],
   "source": [
    "city_data_df = pd.read_csv('weather_data/cities.csv')\n",
    "city_data_df.head()"
   ]
  },
  {
   "cell_type": "code",
   "execution_count": 10,
   "metadata": {},
   "outputs": [],
   "source": [
    "import time\n",
    "today = time.time()\n",
    "today\n",
    "todays_date = time.strftime(\"%x\")"
   ]
  },
  {
   "cell_type": "code",
   "execution_count": 11,
   "metadata": {},
   "outputs": [],
   "source": [
    "\n",
    "# ax=city_data_df.plot.scatter('Lat','Max Temp',edgecolor='black', linewidths=1, marker='o', alpha=0.8, label = 'Cities')\n",
    "# ax.set_xlabel('Latitude')\n",
    "# ax.set_ylabel('Maximum Temperature')\n",
    "# ax.set_title(f'City latitude vs current max temp:  {todays_date}')\n",
    "\n",
    "# plt.grid(True)\n",
    "# plt.savefig('weather_data/fig1.png')"
   ]
  },
  {
   "cell_type": "code",
   "execution_count": 12,
   "metadata": {},
   "outputs": [],
   "source": [
    "# ax=city_data_df.plot.scatter('Lat','Humidity',edgecolor='black', linewidths=1, marker='o', alpha=0.8, label = 'Cities')\n",
    "# ax.set_xlabel('Latitude')\n",
    "# ax.set_ylabel('Humidity')\n",
    "# ax.set_title(f'City latitude vs current max temp:  {todays_date}')\n",
    "# plt.grid(True)\n",
    "# plt.savefig('weather_data/fig2.png')"
   ]
  },
  {
   "cell_type": "code",
   "execution_count": 13,
   "metadata": {},
   "outputs": [],
   "source": [
    "# ax=city_data_df.plot.scatter('Lat','Wind Speed',edgecolor='black', linewidths=1, marker='o', alpha=0.8, label = 'Cities')\n",
    "# ax.set_xlabel('Latitude')\n",
    "# ax.set_ylabel('Wind Speed')\n",
    "# ax.set_title(f'City latitude vs current wind speed:  {todays_date}')\n",
    "# plt.grid(True)\n",
    "# plt.savefig('weather_data/fig3.png')"
   ]
  },
  {
   "cell_type": "code",
   "execution_count": 14,
   "metadata": {},
   "outputs": [],
   "source": [
    "# ax=city_data_df.plot.scatter('Lat','Cloudiness',edgecolor='black', linewidths=1, marker='o', alpha=0.8, label = 'Cities')\n",
    "# ax.set_xlabel('Latitude')\n",
    "# ax.set_ylabel('Cloudiness')\n",
    "# ax.set_title(f'City latitude vs current cloudiness:  {todays_date}')\n",
    "# plt.grid(True)\n",
    "# plt.savefig('weather_data/fig4.png')\n",
    "# linregress(city_data_df['Lat'],city_data_df['Cloudiness'])"
   ]
  },
  {
   "cell_type": "code",
   "execution_count": 15,
   "metadata": {},
   "outputs": [],
   "source": [
    "# def plot_linear_regression(x_values,y_values,title,y_label,text_coordinates):\n",
    "#     (slope,intercept,r_value,p_value,std_err) = linregress(x_values,y_values)\n",
    "#     regress_values = slope * x_values + intercept\n",
    "#     regression = f'y = {slope:.2f} * x + {intercept:.2f}.  R value = {r_value:.2f}'\n",
    "#     plt.scatter(x_values,y_values)\n",
    "#     print(regression)\n",
    "#     plt.ylabel(y_label)\n",
    "#     plt.title(title)\n",
    "#     plt.plot(x_values,regress_values,color='red')\n",
    "#     plt.annotate(regression,text_coordinates,fontsize=10,color='red')\n",
    "#     plt.show()"
   ]
  },
  {
   "cell_type": "code",
   "execution_count": 16,
   "metadata": {},
   "outputs": [],
   "source": [
    "# city_data_df.head()"
   ]
  },
  {
   "cell_type": "code",
   "execution_count": 17,
   "metadata": {},
   "outputs": [],
   "source": [
    "# city_data_southern_df = city_data_df.loc[(city_data_df['Lat'] <= 0)]\n",
    "# city_data_northern_df = city_data_df.loc[(city_data_df['Lat'] > 0)]\n",
    "# plot_linear_regression(city_data_southern_df['Lat'],city_data_southern_df['Max Temp'],'temp vs latitude','temperature(degF)',(-35,30))\n",
    "# plot_linear_regression(city_data_northern_df['Lat'],city_data_northern_df['Max Temp'], 'temp vs latitude', 'Temperature (degF)',(0,30))"
   ]
  },
  {
   "cell_type": "code",
   "execution_count": 18,
   "metadata": {},
   "outputs": [
    {
     "data": {
      "text/html": [
       "<div>\n",
       "<style scoped>\n",
       "    .dataframe tbody tr th:only-of-type {\n",
       "        vertical-align: middle;\n",
       "    }\n",
       "\n",
       "    .dataframe tbody tr th {\n",
       "        vertical-align: top;\n",
       "    }\n",
       "\n",
       "    .dataframe thead th {\n",
       "        text-align: right;\n",
       "    }\n",
       "</style>\n",
       "<table border=\"1\" class=\"dataframe\">\n",
       "  <thead>\n",
       "    <tr style=\"text-align: right;\">\n",
       "      <th></th>\n",
       "      <th>City_ID</th>\n",
       "      <th>City</th>\n",
       "      <th>Country</th>\n",
       "      <th>Date</th>\n",
       "      <th>Lat</th>\n",
       "      <th>Lng</th>\n",
       "      <th>Max Temp</th>\n",
       "      <th>Humidity</th>\n",
       "      <th>Cloudiness</th>\n",
       "      <th>Wind Speed</th>\n",
       "    </tr>\n",
       "  </thead>\n",
       "  <tbody>\n",
       "    <tr>\n",
       "      <th>0</th>\n",
       "      <td>0</td>\n",
       "      <td>Yellowknife</td>\n",
       "      <td>CA</td>\n",
       "      <td>2021-05-24 19:46:20</td>\n",
       "      <td>62.4560</td>\n",
       "      <td>-114.3525</td>\n",
       "      <td>42.33</td>\n",
       "      <td>38</td>\n",
       "      <td>1</td>\n",
       "      <td>5.01</td>\n",
       "    </tr>\n",
       "    <tr>\n",
       "      <th>1</th>\n",
       "      <td>1</td>\n",
       "      <td>Sai Buri</td>\n",
       "      <td>TH</td>\n",
       "      <td>2021-05-24 19:46:20</td>\n",
       "      <td>6.7013</td>\n",
       "      <td>101.6168</td>\n",
       "      <td>78.75</td>\n",
       "      <td>86</td>\n",
       "      <td>97</td>\n",
       "      <td>4.23</td>\n",
       "    </tr>\n",
       "    <tr>\n",
       "      <th>2</th>\n",
       "      <td>2</td>\n",
       "      <td>Saldanha</td>\n",
       "      <td>ZA</td>\n",
       "      <td>2021-05-24 19:46:20</td>\n",
       "      <td>-33.0117</td>\n",
       "      <td>17.9442</td>\n",
       "      <td>60.85</td>\n",
       "      <td>92</td>\n",
       "      <td>100</td>\n",
       "      <td>5.06</td>\n",
       "    </tr>\n",
       "    <tr>\n",
       "      <th>3</th>\n",
       "      <td>3</td>\n",
       "      <td>Tuktoyaktuk</td>\n",
       "      <td>CA</td>\n",
       "      <td>2021-05-24 19:46:21</td>\n",
       "      <td>69.4541</td>\n",
       "      <td>-133.0374</td>\n",
       "      <td>30.20</td>\n",
       "      <td>100</td>\n",
       "      <td>90</td>\n",
       "      <td>8.05</td>\n",
       "    </tr>\n",
       "    <tr>\n",
       "      <th>4</th>\n",
       "      <td>4</td>\n",
       "      <td>Provideniya</td>\n",
       "      <td>RU</td>\n",
       "      <td>2021-05-24 19:46:21</td>\n",
       "      <td>64.3833</td>\n",
       "      <td>-173.3000</td>\n",
       "      <td>37.51</td>\n",
       "      <td>70</td>\n",
       "      <td>0</td>\n",
       "      <td>22.37</td>\n",
       "    </tr>\n",
       "  </tbody>\n",
       "</table>\n",
       "</div>"
      ],
      "text/plain": [
       "   City_ID         City Country                 Date      Lat       Lng  \\\n",
       "0        0  Yellowknife      CA  2021-05-24 19:46:20  62.4560 -114.3525   \n",
       "1        1     Sai Buri      TH  2021-05-24 19:46:20   6.7013  101.6168   \n",
       "2        2     Saldanha      ZA  2021-05-24 19:46:20 -33.0117   17.9442   \n",
       "3        3  Tuktoyaktuk      CA  2021-05-24 19:46:21  69.4541 -133.0374   \n",
       "4        4  Provideniya      RU  2021-05-24 19:46:21  64.3833 -173.3000   \n",
       "\n",
       "   Max Temp  Humidity  Cloudiness  Wind Speed  \n",
       "0     42.33        38           1        5.01  \n",
       "1     78.75        86          97        4.23  \n",
       "2     60.85        92         100        5.06  \n",
       "3     30.20       100          90        8.05  \n",
       "4     37.51        70           0       22.37  "
      ]
     },
     "execution_count": 18,
     "metadata": {},
     "output_type": "execute_result"
    }
   ],
   "source": [
    "city_data_df.head()"
   ]
  },
  {
   "cell_type": "code",
   "execution_count": 19,
   "metadata": {},
   "outputs": [],
   "source": [
    "import gmaps\n",
    "gmaps.configure(api_key=g_key)\n"
   ]
  },
  {
   "cell_type": "code",
   "execution_count": 20,
   "metadata": {},
   "outputs": [
    {
     "data": {
      "text/html": [
       "<div>\n",
       "<style scoped>\n",
       "    .dataframe tbody tr th:only-of-type {\n",
       "        vertical-align: middle;\n",
       "    }\n",
       "\n",
       "    .dataframe tbody tr th {\n",
       "        vertical-align: top;\n",
       "    }\n",
       "\n",
       "    .dataframe thead th {\n",
       "        text-align: right;\n",
       "    }\n",
       "</style>\n",
       "<table border=\"1\" class=\"dataframe\">\n",
       "  <thead>\n",
       "    <tr style=\"text-align: right;\">\n",
       "      <th></th>\n",
       "      <th>City_ID</th>\n",
       "      <th>City</th>\n",
       "      <th>Country</th>\n",
       "      <th>Date</th>\n",
       "      <th>Lat</th>\n",
       "      <th>Lng</th>\n",
       "      <th>Max Temp</th>\n",
       "      <th>Humidity</th>\n",
       "      <th>Cloudiness</th>\n",
       "      <th>Wind Speed</th>\n",
       "    </tr>\n",
       "  </thead>\n",
       "  <tbody>\n",
       "    <tr>\n",
       "      <th>0</th>\n",
       "      <td>0</td>\n",
       "      <td>Yellowknife</td>\n",
       "      <td>CA</td>\n",
       "      <td>2021-05-24 19:46:20</td>\n",
       "      <td>62.4560</td>\n",
       "      <td>-114.3525</td>\n",
       "      <td>42.33</td>\n",
       "      <td>38</td>\n",
       "      <td>1</td>\n",
       "      <td>5.01</td>\n",
       "    </tr>\n",
       "    <tr>\n",
       "      <th>1</th>\n",
       "      <td>1</td>\n",
       "      <td>Sai Buri</td>\n",
       "      <td>TH</td>\n",
       "      <td>2021-05-24 19:46:20</td>\n",
       "      <td>6.7013</td>\n",
       "      <td>101.6168</td>\n",
       "      <td>78.75</td>\n",
       "      <td>86</td>\n",
       "      <td>97</td>\n",
       "      <td>4.23</td>\n",
       "    </tr>\n",
       "    <tr>\n",
       "      <th>2</th>\n",
       "      <td>2</td>\n",
       "      <td>Saldanha</td>\n",
       "      <td>ZA</td>\n",
       "      <td>2021-05-24 19:46:20</td>\n",
       "      <td>-33.0117</td>\n",
       "      <td>17.9442</td>\n",
       "      <td>60.85</td>\n",
       "      <td>92</td>\n",
       "      <td>100</td>\n",
       "      <td>5.06</td>\n",
       "    </tr>\n",
       "    <tr>\n",
       "      <th>3</th>\n",
       "      <td>3</td>\n",
       "      <td>Tuktoyaktuk</td>\n",
       "      <td>CA</td>\n",
       "      <td>2021-05-24 19:46:21</td>\n",
       "      <td>69.4541</td>\n",
       "      <td>-133.0374</td>\n",
       "      <td>30.20</td>\n",
       "      <td>100</td>\n",
       "      <td>90</td>\n",
       "      <td>8.05</td>\n",
       "    </tr>\n",
       "    <tr>\n",
       "      <th>4</th>\n",
       "      <td>4</td>\n",
       "      <td>Provideniya</td>\n",
       "      <td>RU</td>\n",
       "      <td>2021-05-24 19:46:21</td>\n",
       "      <td>64.3833</td>\n",
       "      <td>-173.3000</td>\n",
       "      <td>37.51</td>\n",
       "      <td>70</td>\n",
       "      <td>0</td>\n",
       "      <td>22.37</td>\n",
       "    </tr>\n",
       "  </tbody>\n",
       "</table>\n",
       "</div>"
      ],
      "text/plain": [
       "   City_ID         City Country                 Date      Lat       Lng  \\\n",
       "0        0  Yellowknife      CA  2021-05-24 19:46:20  62.4560 -114.3525   \n",
       "1        1     Sai Buri      TH  2021-05-24 19:46:20   6.7013  101.6168   \n",
       "2        2     Saldanha      ZA  2021-05-24 19:46:20 -33.0117   17.9442   \n",
       "3        3  Tuktoyaktuk      CA  2021-05-24 19:46:21  69.4541 -133.0374   \n",
       "4        4  Provideniya      RU  2021-05-24 19:46:21  64.3833 -173.3000   \n",
       "\n",
       "   Max Temp  Humidity  Cloudiness  Wind Speed  \n",
       "0     42.33        38           1        5.01  \n",
       "1     78.75        86          97        4.23  \n",
       "2     60.85        92         100        5.06  \n",
       "3     30.20       100          90        8.05  \n",
       "4     37.51        70           0       22.37  "
      ]
     },
     "execution_count": 20,
     "metadata": {},
     "output_type": "execute_result"
    }
   ],
   "source": [
    "city_data_df.head()"
   ]
  },
  {
   "cell_type": "code",
   "execution_count": 21,
   "metadata": {},
   "outputs": [],
   "source": [
    "# import gmaps\n",
    "# locations = city_data_df[['Lat','Lng']]\n",
    "# temperatures = list(city_data_df['Max Temp'])\n",
    "# for element in temperatures:\n",
    "#     if element <= 0:\n",
    "#         element = 0\n",
    "\n",
    "# fig = gmaps.figure(center=(30.0,31.0),zoom_level=1.7)\n",
    "# heat_layer = gmaps.heatmap_layer(locations, weights = temperatures,dissipating=False,max_intensity=300,point_radius=4)\n",
    "# fig.add_layer(heat_layer)\n",
    "# fig\n"
   ]
  },
  {
   "cell_type": "code",
   "execution_count": 22,
   "metadata": {},
   "outputs": [],
   "source": [
    "# min(temperatures)"
   ]
  },
  {
   "cell_type": "code",
   "execution_count": 23,
   "metadata": {},
   "outputs": [],
   "source": [
    "# locations = city_data_df[['Lat','Lng']]\n",
    "# humidities = list(city_data_df['Humidity'])\n",
    "\n",
    "# fig = gmaps.figure(center=(30.0,31.0),zoom_level=1.7)\n",
    "# heat_layer = gmaps.heatmap_layer(locations, weights = humidities,dissipating=False,max_intensity=300,point_radius=4)\n",
    "# fig.add_layer(heat_layer)\n",
    "# fig"
   ]
  },
  {
   "cell_type": "code",
   "execution_count": 24,
   "metadata": {},
   "outputs": [],
   "source": [
    "# locations = city_data_df[['Lat','Lng']]\n",
    "# pct_clouds = list(city_data_df['Cloudiness'])\n",
    "# fig = gmaps.figure(center=(30.0,31.0),zoom_level=1.7)\n",
    "# heat_layer = gmaps.heatmap_layer(locations, weights = pct_clouds,dissipating=False,max_intensity=300,point_radius=4)\n",
    "# fig.add_layer(heat_layer)\n",
    "# fig"
   ]
  },
  {
   "cell_type": "code",
   "execution_count": 25,
   "metadata": {},
   "outputs": [],
   "source": [
    "# locations = city_data_df[['Lat','Lng']]\n",
    "# wind_speed = list(city_data_df['Wind Speed'])\n",
    "\n",
    "# fig = gmaps.figure(center=(30.0,31.0),zoom_level=1.7)\n",
    "# heat_layer = gmaps.heatmap_layer(locations, weights = wind_speed,dissipating=False,max_intensity=300,point_radius=4)\n",
    "# fig.add_layer(heat_layer)\n",
    "# fig"
   ]
  },
  {
   "cell_type": "code",
   "execution_count": 48,
   "metadata": {},
   "outputs": [
    {
     "name": "stdout",
     "output_type": "stream",
     "text": [
      "What is the top of your desired temperature range?90\n",
      "What is the base of your desired temperature range75\n"
     ]
    }
   ],
   "source": [
    "\n",
    "max_temp_preference = float(input('What is the top of your desired temperature range?'))\n",
    "min_temp_preference = float(input('What is the base of your desired temperature range'))\n"
   ]
  },
  {
   "cell_type": "code",
   "execution_count": 49,
   "metadata": {},
   "outputs": [],
   "source": [
    "selected_cities_df = city_data_df.loc[(city_data_df['Max Temp'] >= min_temp_preference) & (city_data_df['Max Temp'] <= max_temp_preference)]"
   ]
  },
  {
   "cell_type": "code",
   "execution_count": 60,
   "metadata": {},
   "outputs": [
    {
     "data": {
      "text/plain": [
       "City_ID       167\n",
       "City          167\n",
       "Country       167\n",
       "Date          167\n",
       "Lat           167\n",
       "Lng           167\n",
       "Max Temp      167\n",
       "Humidity      167\n",
       "Cloudiness    167\n",
       "Wind Speed    167\n",
       "dtype: int64"
      ]
     },
     "execution_count": 60,
     "metadata": {},
     "output_type": "execute_result"
    }
   ],
   "source": [
    "selected_cities_df.count()"
   ]
  },
  {
   "cell_type": "code",
   "execution_count": null,
   "metadata": {},
   "outputs": [],
   "source": []
  }
 ],
 "metadata": {
  "kernelspec": {
   "display_name": "PythonData",
   "language": "python",
   "name": "pythondata"
  },
  "language_info": {
   "codemirror_mode": {
    "name": "ipython",
    "version": 3
   },
   "file_extension": ".py",
   "mimetype": "text/x-python",
   "name": "python",
   "nbconvert_exporter": "python",
   "pygments_lexer": "ipython3",
   "version": "3.7.9"
  }
 },
 "nbformat": 4,
 "nbformat_minor": 4
}
